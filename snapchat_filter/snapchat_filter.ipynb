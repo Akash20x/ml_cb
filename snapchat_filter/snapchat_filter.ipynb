{
 "cells": [
  {
   "cell_type": "code",
   "execution_count": 1,
   "metadata": {},
   "outputs": [],
   "source": [
    "import cv2\n",
    "import pandas as pd\n",
    "import matplotlib.pyplot as plt\n",
    "import numpy as np \n",
    "import os \n",
    "import csv\n",
    "import sys\n",
    "from PIL import Image"
   ]
  },
  {
   "cell_type": "code",
   "execution_count": 2,
   "metadata": {},
   "outputs": [],
   "source": [
    "face_cascade = cv2.CascadeClassifier('Train/third-party/haarcascade_frontalface_default.xml')\n",
    "eye_cascade = cv2.CascadeClassifier(\"Train/third-party/frontalEyes35x16.xml\")\n",
    "nose_cascade = cv2.CascadeClassifier(\"Train/third-party/Nose18x15.xml\")"
   ]
  },
  {
   "cell_type": "code",
   "execution_count": 3,
   "metadata": {},
   "outputs": [],
   "source": [
    "img = cv2.imread(\"Test/Before.png\",-1)\n",
    "glasses = cv2.imread(\"Train/glasses.png\",-1)\n",
    "mustache = cv2.imread(\"Train/mustache.png\",-1)"
   ]
  },
  {
   "cell_type": "code",
   "execution_count": 4,
   "metadata": {},
   "outputs": [],
   "source": [
    "gray = cv2.cvtColor(img, cv2.COLOR_BGR2GRAY)\n",
    "img = cv2.cvtColor(img, cv2.COLOR_BGR2BGRA)"
   ]
  },
  {
   "cell_type": "code",
   "execution_count": 5,
   "metadata": {},
   "outputs": [],
   "source": [
    "faces = face_cascade.detectMultiScale(gray, scaleFactor=1.5, minNeighbors=5)\n",
    "for (x,y,w,h) in faces:\n",
    "    roi_gray = gray[y:y+h, x:x+w]\n",
    "    roi_color = img[y:y+h, x:x+w]\n",
    "    cv2.rectangle(img,(x,y),(x+w,y+h),(255, 255, 255), 3)\n",
    "    \n",
    "    eyes = eye_cascade.detectMultiScale(roi_gray, scaleFactor=1.5, minNeighbors=5)\n",
    "    for (ex,ey,ew,eh) in eyes:\n",
    "        cv2.rectangle(roi_color, (ex, ey), (ex + ew, ey + eh), (0, 255, 0), 3)\n",
    "        roi_eyes = gray[ey:ey+eh, ex:ex+ew]\n",
    "        \n",
    "    nose = nose_cascade.detectMultiScale(roi_gray, scaleFactor=1.5, minNeighbors=5)\n",
    "    for (nx,ny,nw,nh) in nose:\n",
    "        cv2.rectangle(roi_color,(nx,ny),(nx+nw,ny+nh),(0,255,255),2)\n",
    "        roi_eyes = gray[ny:ny+nh, nx:nx+nw]"
   ]
  },
  {
   "cell_type": "code",
   "execution_count": 7,
   "metadata": {},
   "outputs": [],
   "source": [
    "cv2.imshow?"
   ]
  },
  {
   "cell_type": "code",
   "execution_count": null,
   "metadata": {},
   "outputs": [],
   "source": [
    "\n",
    "#     roi_color = img[ey:ey+eh, ex:ex+ew]\n",
    "#     glasses = glasses.resize((ew,eh), Image.ANTIALIAS)\n",
    "#     offset = (ex,ey)\n",
    "#     background.paste(glasses, offset, glasses)"
   ]
  },
  {
   "cell_type": "code",
   "execution_count": null,
   "metadata": {},
   "outputs": [],
   "source": [
    "\n",
    "#     mustache = mustache.resize((nw,nh), Image.ANTIALIAS)\n",
    "#     offset = (nx,ny)\n",
    "#     background.paste(mustache, offset, mustache)\n",
    "    "
   ]
  },
  {
   "cell_type": "code",
   "execution_count": null,
   "metadata": {},
   "outputs": [],
   "source": [
    "plt.imshow(img)\n",
    "plt.show()"
   ]
  },
  {
   "cell_type": "code",
   "execution_count": null,
   "metadata": {},
   "outputs": [],
   "source": [
    "cv2.imshow(img)"
   ]
  },
  {
   "cell_type": "code",
   "execution_count": null,
   "metadata": {},
   "outputs": [],
   "source": [
    "background.show()"
   ]
  },
  {
   "cell_type": "code",
   "execution_count": null,
   "metadata": {},
   "outputs": [],
   "source": [
    "# for (x,y,w,h) in faces:\n",
    "\n",
    "# \t# just to show detected faces\n",
    "# \tcv2.rectangle(image, (x,y), (x+w, y+h), (255, 0, 0), 2)\n",
    "# \tcv2.imshow('face detected', image)\n",
    "# \tcv2.waitKey(0)\n",
    "\n",
    "# \t# open mask as PIL image\n",
    "# \tmask = Image.open(maskPath)\n",
    "# \t# resize mask according to detected face\n",
    "# \tmask = mask.resize((w,h), Image.ANTIALIAS)\n",
    "\n",
    "# \t# define offset for mask\n",
    "# \toffset = (x,y)\n",
    "# \t# paste mask on background\n",
    "# \tbackground.paste(mask, offset, mask=mask)\n",
    "\n",
    "# # paste final thug life meme\n",
    "# background.save('out.png')"
   ]
  },
  {
   "cell_type": "code",
   "execution_count": null,
   "metadata": {},
   "outputs": [],
   "source": []
  },
  {
   "cell_type": "code",
   "execution_count": null,
   "metadata": {},
   "outputs": [],
   "source": []
  },
  {
   "cell_type": "code",
   "execution_count": null,
   "metadata": {},
   "outputs": [],
   "source": []
  }
 ],
 "metadata": {
  "kernelspec": {
   "display_name": "Python 3",
   "language": "python",
   "name": "python3"
  },
  "language_info": {
   "codemirror_mode": {
    "name": "ipython",
    "version": 3
   },
   "file_extension": ".py",
   "mimetype": "text/x-python",
   "name": "python",
   "nbconvert_exporter": "python",
   "pygments_lexer": "ipython3",
   "version": "3.7.3"
  }
 },
 "nbformat": 4,
 "nbformat_minor": 2
}
