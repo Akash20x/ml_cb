{
 "cells": [
  {
   "cell_type": "code",
   "execution_count": 1,
   "metadata": {},
   "outputs": [
    {
     "name": "stderr",
     "output_type": "stream",
     "text": [
      "Using TensorFlow backend.\n"
     ]
    }
   ],
   "source": [
    "from keras.models import Sequential\n",
    "from keras.layers import *\n",
    "from keras.utils import np_utils\n",
    "import pandas as pd\n",
    "import numpy as np\n",
    "from keras.callbacks import EarlyStopping , ModelCheckpoint\n",
    "from keras.models import load_model\n",
    "from keras.optimizers import adam\n",
    "import matplotlib.pyplot as plt"
   ]
  },
  {
   "cell_type": "code",
   "execution_count": 2,
   "metadata": {},
   "outputs": [],
   "source": [
    "X_train = pd.read_csv(\"Train/x_train.csv\").values\n",
    "y_train = pd.read_csv(\"Train/y_train.csv\").values"
   ]
  },
  {
   "cell_type": "code",
   "execution_count": 3,
   "metadata": {},
   "outputs": [],
   "source": [
    "# Feature Scaling\n",
    "\n",
    "from sklearn.preprocessing import MinMaxScaler\n",
    "sc = MinMaxScaler(feature_range = (0, 1))\n",
    "X_train = sc.fit_transform(X_train)\n",
    "y_train = sc.transform(y_train)"
   ]
  },
  {
   "cell_type": "code",
   "execution_count": 4,
   "metadata": {},
   "outputs": [],
   "source": [
    "X_train = X_train.reshape((X_train.shape[0],X_train.shape[1],1))"
   ]
  },
  {
   "cell_type": "code",
   "execution_count": 5,
   "metadata": {},
   "outputs": [
    {
     "data": {
      "text/plain": [
       "(1257, 1, 1)"
      ]
     },
     "execution_count": 5,
     "metadata": {},
     "output_type": "execute_result"
    }
   ],
   "source": [
    "X_train.shape"
   ]
  },
  {
   "cell_type": "code",
   "execution_count": 6,
   "metadata": {},
   "outputs": [],
   "source": [
    "# y_train = y_train.reshape(-1,)"
   ]
  },
  {
   "cell_type": "code",
   "execution_count": 7,
   "metadata": {},
   "outputs": [
    {
     "data": {
      "text/plain": [
       "(1257, 1)"
      ]
     },
     "execution_count": 7,
     "metadata": {},
     "output_type": "execute_result"
    }
   ],
   "source": [
    "y_train.shape"
   ]
  },
  {
   "cell_type": "code",
   "execution_count": 8,
   "metadata": {},
   "outputs": [],
   "source": [
    "XT = X_train[:1000]\n",
    "YT = y_train[:1000]\n",
    "Xt = X_train[1000:]\n",
    "Yt = y_train[1000:]"
   ]
  },
  {
   "cell_type": "code",
   "execution_count": 9,
   "metadata": {},
   "outputs": [
    {
     "name": "stdout",
     "output_type": "stream",
     "text": [
      "(1000, 1, 1)\n",
      "(257, 1, 1)\n",
      "(1000, 1)\n",
      "(257, 1)\n"
     ]
    }
   ],
   "source": [
    "print(XT.shape)\n",
    "print(Xt.shape)\n",
    "print(YT.shape)\n",
    "print(Yt.shape)"
   ]
  },
  {
   "cell_type": "code",
   "execution_count": null,
   "metadata": {},
   "outputs": [],
   "source": []
  },
  {
   "cell_type": "code",
   "execution_count": 10,
   "metadata": {},
   "outputs": [
    {
     "name": "stderr",
     "output_type": "stream",
     "text": [
      "WARNING: Logging before flag parsing goes to stderr.\n",
      "W0811 03:13:26.658109 140100236040000 deprecation_wrapper.py:119] From /home/shubham/.conda/envs/my_env/lib/python3.7/site-packages/keras/backend/tensorflow_backend.py:74: The name tf.get_default_graph is deprecated. Please use tf.compat.v1.get_default_graph instead.\n",
      "\n",
      "W0811 03:13:26.981671 140100236040000 deprecation_wrapper.py:119] From /home/shubham/.conda/envs/my_env/lib/python3.7/site-packages/keras/backend/tensorflow_backend.py:517: The name tf.placeholder is deprecated. Please use tf.compat.v1.placeholder instead.\n",
      "\n",
      "W0811 03:13:27.007768 140100236040000 deprecation_wrapper.py:119] From /home/shubham/.conda/envs/my_env/lib/python3.7/site-packages/keras/backend/tensorflow_backend.py:4138: The name tf.random_uniform is deprecated. Please use tf.random.uniform instead.\n",
      "\n",
      "W0811 03:13:28.717770 140100236040000 deprecation_wrapper.py:119] From /home/shubham/.conda/envs/my_env/lib/python3.7/site-packages/keras/optimizers.py:790: The name tf.train.Optimizer is deprecated. Please use tf.compat.v1.train.Optimizer instead.\n",
      "\n"
     ]
    },
    {
     "name": "stdout",
     "output_type": "stream",
     "text": [
      "_________________________________________________________________\n",
      "Layer (type)                 Output Shape              Param #   \n",
      "=================================================================\n",
      "lstm_1 (LSTM)                (None, None, 32)          4352      \n",
      "_________________________________________________________________\n",
      "lstm_2 (LSTM)                (None, 3)                 432       \n",
      "_________________________________________________________________\n",
      "dense_1 (Dense)              (None, 1)                 4         \n",
      "=================================================================\n",
      "Total params: 4,788\n",
      "Trainable params: 4,788\n",
      "Non-trainable params: 0\n",
      "_________________________________________________________________\n"
     ]
    }
   ],
   "source": [
    "\n",
    "# Importing the Keras libraries and packages\n",
    "from keras.models import Sequential\n",
    "from keras.layers import Dense\n",
    "from keras.layers import LSTM\n",
    "\n",
    "# Initialising the RNN\n",
    "regressor = Sequential()\n",
    "\n",
    "# Adding the input layer and the LSTM layer\n",
    "regressor.add(LSTM(units = 32, return_sequences = True, input_shape = (None, 1)))\n",
    "\n",
    "# # Adding a second LSTM layer\n",
    "# regressor.add(LSTM(units = 32, return_sequences = True))\n",
    "\n",
    "# # Adding a third LSTM layer\n",
    "# regressor.add(LSTM(units = 16, return_sequences = True))\n",
    "\n",
    "# Adding a fourth LSTM layer\n",
    "regressor.add(LSTM(units = 3))\n",
    "\n",
    "# Adding the output layer\n",
    "regressor.add(Dense(units = 1))\n",
    "\n",
    "# Compiling the RNN\n",
    "regressor.compile(optimizer = adam(lr=0.0007), loss = 'mean_squared_error', metrics= ['accuracy'])\n",
    "\n",
    "regressor.summary()"
   ]
  },
  {
   "cell_type": "code",
   "execution_count": null,
   "metadata": {},
   "outputs": [],
   "source": []
  },
  {
   "cell_type": "code",
   "execution_count": 11,
   "metadata": {
    "scrolled": true
   },
   "outputs": [
    {
     "name": "stderr",
     "output_type": "stream",
     "text": [
      "W0811 03:13:37.719015 140100236040000 deprecation.py:323] From /home/shubham/.conda/envs/my_env/lib/python3.7/site-packages/tensorflow/python/ops/math_grad.py:1250: add_dispatch_support.<locals>.wrapper (from tensorflow.python.ops.array_ops) is deprecated and will be removed in a future version.\n",
      "Instructions for updating:\n",
      "Use tf.where in 2.0, which has the same broadcast rule as np.where\n",
      "W0811 03:13:39.282348 140100236040000 deprecation_wrapper.py:119] From /home/shubham/.conda/envs/my_env/lib/python3.7/site-packages/keras/backend/tensorflow_backend.py:986: The name tf.assign_add is deprecated. Please use tf.compat.v1.assign_add instead.\n",
      "\n",
      "W0811 03:13:39.448710 140100236040000 deprecation_wrapper.py:119] From /home/shubham/.conda/envs/my_env/lib/python3.7/site-packages/keras/backend/tensorflow_backend.py:973: The name tf.assign is deprecated. Please use tf.compat.v1.assign instead.\n",
      "\n"
     ]
    },
    {
     "name": "stdout",
     "output_type": "stream",
     "text": [
      "Train on 1000 samples, validate on 257 samples\n",
      "Epoch 1/50\n",
      "1000/1000 [==============================] - 3s 3ms/step - loss: 0.1767 - acc: 1.0000e-03 - val_loss: 0.6735 - val_acc: 0.0000e+00\n",
      "Epoch 2/50\n",
      "1000/1000 [==============================] - 0s 175us/step - loss: 0.1421 - acc: 1.0000e-03 - val_loss: 0.5716 - val_acc: 0.0000e+00\n",
      "Epoch 3/50\n",
      "1000/1000 [==============================] - 0s 186us/step - loss: 0.1072 - acc: 1.0000e-03 - val_loss: 0.4550 - val_acc: 0.0000e+00\n",
      "Epoch 4/50\n",
      "1000/1000 [==============================] - 0s 194us/step - loss: 0.0739 - acc: 1.0000e-03 - val_loss: 0.3280 - val_acc: 0.0000e+00\n",
      "Epoch 5/50\n",
      "1000/1000 [==============================] - 0s 163us/step - loss: 0.0465 - acc: 1.0000e-03 - val_loss: 0.2125 - val_acc: 0.0000e+00\n",
      "Epoch 6/50\n",
      "1000/1000 [==============================] - 0s 176us/step - loss: 0.0320 - acc: 1.0000e-03 - val_loss: 0.1366 - val_acc: 0.0039\n",
      "Epoch 7/50\n",
      "1000/1000 [==============================] - 0s 155us/step - loss: 0.0271 - acc: 1.0000e-03 - val_loss: 0.1093 - val_acc: 0.0039\n",
      "Epoch 8/50\n",
      "1000/1000 [==============================] - 0s 156us/step - loss: 0.0245 - acc: 1.0000e-03 - val_loss: 0.0919 - val_acc: 0.0039\n",
      "Epoch 9/50\n",
      "1000/1000 [==============================] - 0s 150us/step - loss: 0.0218 - acc: 1.0000e-03 - val_loss: 0.0792 - val_acc: 0.0039\n",
      "Epoch 10/50\n",
      "1000/1000 [==============================] - 0s 151us/step - loss: 0.0191 - acc: 1.0000e-03 - val_loss: 0.0645 - val_acc: 0.0039\n",
      "Epoch 11/50\n",
      "1000/1000 [==============================] - 0s 154us/step - loss: 0.0163 - acc: 1.0000e-03 - val_loss: 0.0520 - val_acc: 0.0039\n",
      "Epoch 12/50\n",
      "1000/1000 [==============================] - 0s 139us/step - loss: 0.0136 - acc: 1.0000e-03 - val_loss: 0.0385 - val_acc: 0.0039\n",
      "Epoch 13/50\n",
      "1000/1000 [==============================] - 0s 155us/step - loss: 0.0109 - acc: 1.0000e-03 - val_loss: 0.0271 - val_acc: 0.0039\n",
      "Epoch 14/50\n",
      "1000/1000 [==============================] - 0s 159us/step - loss: 0.0085 - acc: 1.0000e-03 - val_loss: 0.0177 - val_acc: 0.0039\n",
      "Epoch 15/50\n",
      "1000/1000 [==============================] - 0s 203us/step - loss: 0.0063 - acc: 1.0000e-03 - val_loss: 0.0103 - val_acc: 0.0039\n",
      "Epoch 16/50\n",
      "1000/1000 [==============================] - 0s 159us/step - loss: 0.0046 - acc: 1.0000e-03 - val_loss: 0.0048 - val_acc: 0.0039\n",
      "Epoch 17/50\n",
      "1000/1000 [==============================] - 0s 141us/step - loss: 0.0032 - acc: 1.0000e-03 - val_loss: 0.0018 - val_acc: 0.0039\n",
      "Epoch 18/50\n",
      "1000/1000 [==============================] - 0s 214us/step - loss: 0.0023 - acc: 1.0000e-03 - val_loss: 6.2595e-04 - val_acc: 0.0039\n",
      "Epoch 19/50\n",
      "1000/1000 [==============================] - 0s 438us/step - loss: 0.0016 - acc: 1.0000e-03 - val_loss: 2.9570e-04 - val_acc: 0.0039\n",
      "Epoch 20/50\n",
      "1000/1000 [==============================] - 0s 281us/step - loss: 0.0012 - acc: 1.0000e-03 - val_loss: 7.3230e-04 - val_acc: 0.0039\n",
      "Epoch 21/50\n",
      "1000/1000 [==============================] - 0s 215us/step - loss: 9.7415e-04 - acc: 1.0000e-03 - val_loss: 0.0013 - val_acc: 0.0039\n",
      "Epoch 22/50\n",
      "1000/1000 [==============================] - 0s 200us/step - loss: 8.4230e-04 - acc: 1.0000e-03 - val_loss: 0.0020 - val_acc: 0.0039\n",
      "Epoch 23/50\n",
      "1000/1000 [==============================] - 0s 161us/step - loss: 7.7035e-04 - acc: 1.0000e-03 - val_loss: 0.0024 - val_acc: 0.0039\n",
      "Epoch 24/50\n",
      "1000/1000 [==============================] - 0s 173us/step - loss: 7.2331e-04 - acc: 1.0000e-03 - val_loss: 0.0024 - val_acc: 0.0039\n",
      "Epoch 25/50\n",
      "1000/1000 [==============================] - 0s 174us/step - loss: 6.9271e-04 - acc: 1.0000e-03 - val_loss: 0.0026 - val_acc: 0.0039\n",
      "Epoch 26/50\n",
      "1000/1000 [==============================] - 0s 142us/step - loss: 6.6747e-04 - acc: 1.0000e-03 - val_loss: 0.0025 - val_acc: 0.0039\n",
      "Epoch 27/50\n",
      "1000/1000 [==============================] - 0s 159us/step - loss: 6.4624e-04 - acc: 1.0000e-03 - val_loss: 0.0022 - val_acc: 0.0039\n",
      "Epoch 28/50\n",
      "1000/1000 [==============================] - 0s 169us/step - loss: 6.3337e-04 - acc: 1.0000e-03 - val_loss: 0.0027 - val_acc: 0.0039\n",
      "Epoch 29/50\n",
      "1000/1000 [==============================] - 0s 199us/step - loss: 6.0417e-04 - acc: 1.0000e-03 - val_loss: 0.0026 - val_acc: 0.0039\n",
      "Epoch 30/50\n",
      "1000/1000 [==============================] - 0s 219us/step - loss: 5.8594e-04 - acc: 1.0000e-03 - val_loss: 0.0022 - val_acc: 0.0039\n",
      "Epoch 31/50\n",
      "1000/1000 [==============================] - 0s 167us/step - loss: 5.6714e-04 - acc: 1.0000e-03 - val_loss: 0.0024 - val_acc: 0.0039\n",
      "Epoch 32/50\n",
      "1000/1000 [==============================] - 0s 156us/step - loss: 5.4921e-04 - acc: 1.0000e-03 - val_loss: 0.0018 - val_acc: 0.0039\n",
      "Epoch 33/50\n",
      "1000/1000 [==============================] - 0s 142us/step - loss: 5.3374e-04 - acc: 1.0000e-03 - val_loss: 0.0017 - val_acc: 0.0039\n",
      "Epoch 34/50\n",
      "1000/1000 [==============================] - 0s 131us/step - loss: 5.1481e-04 - acc: 1.0000e-03 - val_loss: 0.0017 - val_acc: 0.0039\n",
      "Epoch 35/50\n",
      "1000/1000 [==============================] - 0s 159us/step - loss: 4.9684e-04 - acc: 1.0000e-03 - val_loss: 0.0019 - val_acc: 0.0039\n",
      "Epoch 36/50\n",
      "1000/1000 [==============================] - 0s 151us/step - loss: 4.7883e-04 - acc: 1.0000e-03 - val_loss: 0.0013 - val_acc: 0.0039\n",
      "Epoch 37/50\n",
      "1000/1000 [==============================] - 0s 144us/step - loss: 4.7061e-04 - acc: 1.0000e-03 - val_loss: 0.0013 - val_acc: 0.0039\n",
      "Epoch 38/50\n",
      "1000/1000 [==============================] - 0s 168us/step - loss: 4.5074e-04 - acc: 1.0000e-03 - val_loss: 0.0011 - val_acc: 0.0039\n",
      "Epoch 39/50\n",
      "1000/1000 [==============================] - 0s 223us/step - loss: 4.3673e-04 - acc: 1.0000e-03 - val_loss: 0.0013 - val_acc: 0.0039\n",
      "Epoch 40/50\n",
      "1000/1000 [==============================] - 0s 272us/step - loss: 4.2203e-04 - acc: 1.0000e-03 - val_loss: 0.0011 - val_acc: 0.0039\n",
      "Epoch 41/50\n",
      "1000/1000 [==============================] - 0s 160us/step - loss: 4.0993e-04 - acc: 1.0000e-03 - val_loss: 0.0010 - val_acc: 0.0039\n",
      "Epoch 42/50\n",
      "1000/1000 [==============================] - 0s 182us/step - loss: 3.9684e-04 - acc: 1.0000e-03 - val_loss: 8.7758e-04 - val_acc: 0.0039\n",
      "Epoch 43/50\n",
      "1000/1000 [==============================] - 0s 203us/step - loss: 3.8617e-04 - acc: 1.0000e-03 - val_loss: 9.5092e-04 - val_acc: 0.0039\n",
      "Epoch 44/50\n",
      "1000/1000 [==============================] - 0s 202us/step - loss: 3.7340e-04 - acc: 1.0000e-03 - val_loss: 7.2862e-04 - val_acc: 0.0039\n",
      "Epoch 45/50\n",
      "1000/1000 [==============================] - 0s 260us/step - loss: 3.6125e-04 - acc: 1.0000e-03 - val_loss: 7.0676e-04 - val_acc: 0.0039\n",
      "Epoch 46/50\n",
      "1000/1000 [==============================] - 0s 187us/step - loss: 3.5093e-04 - acc: 1.0000e-03 - val_loss: 6.7019e-04 - val_acc: 0.0039\n",
      "Epoch 47/50\n",
      "1000/1000 [==============================] - 0s 157us/step - loss: 3.4083e-04 - acc: 1.0000e-03 - val_loss: 6.4641e-04 - val_acc: 0.0039\n",
      "Epoch 48/50\n",
      "1000/1000 [==============================] - 0s 161us/step - loss: 3.3440e-04 - acc: 1.0000e-03 - val_loss: 4.9124e-04 - val_acc: 0.0039\n",
      "Epoch 49/50\n",
      "1000/1000 [==============================] - 0s 207us/step - loss: 3.2459e-04 - acc: 1.0000e-03 - val_loss: 4.7835e-04 - val_acc: 0.0039\n",
      "Epoch 50/50\n",
      "1000/1000 [==============================] - 0s 185us/step - loss: 3.1484e-04 - acc: 1.0000e-03 - val_loss: 5.5510e-04 - val_acc: 0.0039\n"
     ]
    }
   ],
   "source": [
    "# Fitting the RNN to the Training set\n",
    "hist = regressor.fit(XT,YT, epochs = 50, batch_size = 32, validation_data=(Xt,Yt))"
   ]
  },
  {
   "cell_type": "code",
   "execution_count": 12,
   "metadata": {},
   "outputs": [
    {
     "data": {
      "image/png": "[encoded data removed]",
      "text/plain": [
       "<Figure size 432x288 with 1 Axes>"
      ]
     },
     "metadata": {
      "needs_background": "light"
     },
     "output_type": "display_data"
    }
   ],
   "source": [
    "plt.plot(hist.history['loss'], label = \"train loss\")\n",
    "plt.plot(hist.history['val_loss'], label =\"val loss\")\n",
    "plt.legend()\n",
    "plt.show()"
   ]
  },
  {
   "cell_type": "code",
   "execution_count": 13,
   "metadata": {},
   "outputs": [
    {
     "data": {
      "image/png": "[encoded data removed]",
      "text/plain": [
       "<Figure size 432x288 with 1 Axes>"
      ]
     },
     "metadata": {
      "needs_background": "light"
     },
     "output_type": "display_data"
    }
   ],
   "source": [
    "plt.plot(hist.history['acc'], label=\"acc\")\n",
    "plt.plot(hist.history['val_acc'], label=\"val acc\")\n",
    "plt.legend()\n",
    "plt.show()"
   ]
  },
  {
   "cell_type": "code",
   "execution_count": 14,
   "metadata": {},
   "outputs": [],
   "source": [
    "y_pred = regressor.predict(Xt)"
   ]
  },
  {
   "cell_type": "code",
   "execution_count": 15,
   "metadata": {},
   "outputs": [
    {
     "data": {
      "image/png": "[encoded data removed]",
      "text/plain": [
       "<Figure size 432x288 with 1 Axes>"
      ]
     },
     "metadata": {
      "needs_background": "light"
     },
     "output_type": "display_data"
    }
   ],
   "source": [
    "plt.plot(Yt)\n",
    "plt.plot(y_pred)\n",
    "plt.show()"
   ]
  },
  {
   "cell_type": "code",
   "execution_count": 16,
   "metadata": {},
   "outputs": [],
   "source": [
    "# np.arange(1000,1257).shape\n",
    "# y_pred.shape"
   ]
  },
  {
   "cell_type": "code",
   "execution_count": null,
   "metadata": {},
   "outputs": [],
   "source": []
  },
  {
   "cell_type": "code",
   "execution_count": 17,
   "metadata": {},
   "outputs": [],
   "source": [
    "# modelcheckpoint = ModelCheckpoint(\"best_model.h5\",save_best_only=True)\n",
    "# earlystop = EarlyStopping(patience=5 , monitor='val_loss',restore_best_weights=True)\n",
    "\n",
    "# hist = model.fit(X_train, y_train, epochs=100, batch_size=32, callbacks=[modelcheckpoint,earlystop], shuffle=True, validation_split=0.2)"
   ]
  },
  {
   "cell_type": "code",
   "execution_count": null,
   "metadata": {},
   "outputs": [],
   "source": []
  },
  {
   "cell_type": "markdown",
   "metadata": {},
   "source": [
    "## With Test Set"
   ]
  },
  {
   "cell_type": "code",
   "execution_count": null,
   "metadata": {},
   "outputs": [],
   "source": []
  },
  {
   "cell_type": "code",
   "execution_count": 18,
   "metadata": {},
   "outputs": [],
   "source": [
    "X_test = pd.read_csv(\"Test/x_test.csv\").values"
   ]
  },
  {
   "cell_type": "code",
   "execution_count": 19,
   "metadata": {},
   "outputs": [],
   "source": [
    "sc1 = MinMaxScaler(feature_range = (0, 1))"
   ]
  },
  {
   "cell_type": "code",
   "execution_count": 20,
   "metadata": {},
   "outputs": [],
   "source": [
    "X_test = sc1.fit_transform(X_test)"
   ]
  },
  {
   "cell_type": "code",
   "execution_count": 21,
   "metadata": {},
   "outputs": [],
   "source": [
    "X_test = X_test.reshape((X_test.shape[0],X_test.shape[1],1))"
   ]
  },
  {
   "cell_type": "code",
   "execution_count": 22,
   "metadata": {},
   "outputs": [
    {
     "data": {
      "text/plain": [
       "(19, 1, 1)"
      ]
     },
     "execution_count": 22,
     "metadata": {},
     "output_type": "execute_result"
    }
   ],
   "source": [
    "X_test.shape"
   ]
  },
  {
   "cell_type": "code",
   "execution_count": null,
   "metadata": {},
   "outputs": [],
   "source": []
  },
  {
   "cell_type": "code",
   "execution_count": 23,
   "metadata": {},
   "outputs": [],
   "source": [
    "y_pred = regressor.predict(X_test)\n"
   ]
  },
  {
   "cell_type": "code",
   "execution_count": 24,
   "metadata": {},
   "outputs": [],
   "source": [
    "y_pred = sc1.inverse_transform(y_pred)"
   ]
  },
  {
   "cell_type": "code",
   "execution_count": 25,
   "metadata": {},
   "outputs": [],
   "source": [
    "result = pd.DataFrame(y_pred, columns=['High'])"
   ]
  },
  {
   "cell_type": "code",
   "execution_count": 26,
   "metadata": {},
   "outputs": [
    {
     "data": {
      "text/html": [
       "<div>\n",
       "<style scoped>\n",
       "    .dataframe tbody tr th:only-of-type {\n",
       "        vertical-align: middle;\n",
       "    }\n",
       "\n",
       "    .dataframe tbody tr th {\n",
       "        vertical-align: top;\n",
       "    }\n",
       "\n",
       "    .dataframe thead th {\n",
       "        text-align: right;\n",
       "    }\n",
       "</style>\n",
       "<table border=\"1\" class=\"dataframe\">\n",
       "  <thead>\n",
       "    <tr style=\"text-align: right;\">\n",
       "      <th></th>\n",
       "      <th>High</th>\n",
       "    </tr>\n",
       "  </thead>\n",
       "  <tbody>\n",
       "    <tr>\n",
       "      <th>0</th>\n",
       "      <td>791.410400</td>\n",
       "    </tr>\n",
       "    <tr>\n",
       "      <th>1</th>\n",
       "      <td>792.597839</td>\n",
       "    </tr>\n",
       "    <tr>\n",
       "      <th>2</th>\n",
       "      <td>794.961121</td>\n",
       "    </tr>\n",
       "    <tr>\n",
       "      <th>3</th>\n",
       "      <td>807.361023</td>\n",
       "    </tr>\n",
       "    <tr>\n",
       "      <th>4</th>\n",
       "      <td>809.517822</td>\n",
       "    </tr>\n",
       "  </tbody>\n",
       "</table>\n",
       "</div>"
      ],
      "text/plain": [
       "         High\n",
       "0  791.410400\n",
       "1  792.597839\n",
       "2  794.961121\n",
       "3  807.361023\n",
       "4  809.517822"
      ]
     },
     "execution_count": 26,
     "metadata": {},
     "output_type": "execute_result"
    }
   ],
   "source": [
    "result.head()"
   ]
  },
  {
   "cell_type": "code",
   "execution_count": 27,
   "metadata": {},
   "outputs": [],
   "source": [
    "result.to_csv(\"pred_updated.csv\", index=False)"
   ]
  },
  {
   "cell_type": "code",
   "execution_count": null,
   "metadata": {},
   "outputs": [],
   "source": []
  },
  {
   "cell_type": "code",
   "execution_count": null,
   "metadata": {},
   "outputs": [],
   "source": []
  },
  {
   "cell_type": "code",
   "execution_count": null,
   "metadata": {},
   "outputs": [],
   "source": []
  },
  {
   "cell_type": "code",
   "execution_count": null,
   "metadata": {},
   "outputs": [],
   "source": []
  },
  {
   "cell_type": "code",
   "execution_count": null,
   "metadata": {},
   "outputs": [],
   "source": []
  },
  {
   "cell_type": "markdown",
   "metadata": {},
   "source": [
    "# 40 Time Step LSTM"
   ]
  },
  {
   "cell_type": "code",
   "execution_count": null,
   "metadata": {},
   "outputs": [],
   "source": []
  },
  {
   "cell_type": "code",
   "execution_count": 28,
   "metadata": {},
   "outputs": [],
   "source": [
    "new_data = pd.read_csv(\"Train/x_train.csv\")\n",
    "test_data = pd.read_csv(\"Test/x_test.csv\")"
   ]
  },
  {
   "cell_type": "code",
   "execution_count": 29,
   "metadata": {},
   "outputs": [],
   "source": [
    "new_data = pd.concat((new_data,test_data), axis=0)"
   ]
  },
  {
   "cell_type": "code",
   "execution_count": 30,
   "metadata": {},
   "outputs": [
    {
     "data": {
      "text/plain": [
       "(1276, 1)"
      ]
     },
     "execution_count": 30,
     "metadata": {},
     "output_type": "execute_result"
    }
   ],
   "source": [
    "new_data.shape"
   ]
  },
  {
   "cell_type": "code",
   "execution_count": 31,
   "metadata": {},
   "outputs": [],
   "source": [
    "dataset = new_data.values"
   ]
  },
  {
   "cell_type": "code",
   "execution_count": 32,
   "metadata": {},
   "outputs": [
    {
     "data": {
      "text/plain": [
       "(1276, 1)"
      ]
     },
     "execution_count": 32,
     "metadata": {},
     "output_type": "execute_result"
    }
   ],
   "source": [
    "dataset.shape"
   ]
  },
  {
   "cell_type": "code",
   "execution_count": 33,
   "metadata": {},
   "outputs": [],
   "source": [
    "\n",
    "train = dataset[0:1257,:]\n",
    "valid = dataset[1257:,:]"
   ]
  },
  {
   "cell_type": "code",
   "execution_count": 34,
   "metadata": {},
   "outputs": [
    {
     "data": {
      "text/plain": [
       "(19, 1)"
      ]
     },
     "execution_count": 34,
     "metadata": {},
     "output_type": "execute_result"
    }
   ],
   "source": [
    "valid.shape"
   ]
  },
  {
   "cell_type": "code",
   "execution_count": 35,
   "metadata": {},
   "outputs": [],
   "source": [
    "#converting dataset into x_train and y_train\n",
    "scaler = MinMaxScaler(feature_range=(0, 1))\n",
    "scaled_data = scaler.fit_transform(dataset)"
   ]
  },
  {
   "cell_type": "code",
   "execution_count": 36,
   "metadata": {},
   "outputs": [],
   "source": [
    "x_train, y_train = [], []\n",
    "for i in range(40,len(train)):\n",
    "    x_train.append(scaled_data[i-40:i,0])\n",
    "    y_train.append(scaled_data[i,0])\n",
    "x_train, y_train = np.array(x_train), np.array(y_train)"
   ]
  },
  {
   "cell_type": "code",
   "execution_count": 37,
   "metadata": {},
   "outputs": [
    {
     "name": "stdout",
     "output_type": "stream",
     "text": [
      "(1217, 40)\n",
      "(1217,)\n"
     ]
    }
   ],
   "source": [
    "print(x_train.shape)\n",
    "print(y_train.shape)"
   ]
  },
  {
   "cell_type": "code",
   "execution_count": 38,
   "metadata": {},
   "outputs": [
    {
     "name": "stdout",
     "output_type": "stream",
     "text": [
      "(1217, 40, 1)\n"
     ]
    }
   ],
   "source": [
    "x_train = np.reshape(x_train, (x_train.shape[0],x_train.shape[1],1))\n",
    "print(x_train.shape)"
   ]
  },
  {
   "cell_type": "code",
   "execution_count": null,
   "metadata": {},
   "outputs": [],
   "source": []
  },
  {
   "cell_type": "code",
   "execution_count": 39,
   "metadata": {},
   "outputs": [
    {
     "name": "stdout",
     "output_type": "stream",
     "text": [
      "Epoch 1/1\n",
      "1217/1217 [==============================] - 49s 40ms/step - loss: 0.0028\n"
     ]
    },
    {
     "data": {
      "text/plain": [
       "<keras.callbacks.History at 0x7f6b380a8c88>"
      ]
     },
     "execution_count": 39,
     "metadata": {},
     "output_type": "execute_result"
    }
   ],
   "source": [
    "# create and fit the LSTM network\n",
    "model = Sequential()\n",
    "model.add(LSTM(units=64, return_sequences=True, input_shape=(x_train.shape[1],1)))\n",
    "model.add(LSTM(units=32))\n",
    "model.add(Dense(1))\n",
    "\n",
    "model.compile(loss='mean_squared_error', optimizer='adam')\n",
    "model.fit(x_train, y_train, epochs=1, batch_size=1, verbose=1)"
   ]
  },
  {
   "cell_type": "code",
   "execution_count": null,
   "metadata": {},
   "outputs": [],
   "source": []
  },
  {
   "cell_type": "code",
   "execution_count": 40,
   "metadata": {},
   "outputs": [
    {
     "data": {
      "text/plain": [
       "(19, 1)"
      ]
     },
     "execution_count": 40,
     "metadata": {},
     "output_type": "execute_result"
    }
   ],
   "source": [
    "valid.shape"
   ]
  },
  {
   "cell_type": "code",
   "execution_count": 41,
   "metadata": {},
   "outputs": [],
   "source": [
    "\n",
    "#predicting 19 values, using past 60 from the train data\n",
    "inputs = new_data[len(new_data) - len(valid) - 40:].values\n",
    "inputs = inputs.reshape(-1,1)\n",
    "inputs  = scaler.transform(inputs)"
   ]
  },
  {
   "cell_type": "code",
   "execution_count": 42,
   "metadata": {},
   "outputs": [
    {
     "data": {
      "text/plain": [
       "(59, 1)"
      ]
     },
     "execution_count": 42,
     "metadata": {},
     "output_type": "execute_result"
    }
   ],
   "source": [
    "inputs.shape"
   ]
  },
  {
   "cell_type": "code",
   "execution_count": null,
   "metadata": {},
   "outputs": [],
   "source": []
  },
  {
   "cell_type": "code",
   "execution_count": 43,
   "metadata": {},
   "outputs": [],
   "source": [
    "X_test = []\n",
    "for i in range(40,inputs.shape[0]):\n",
    "    X_test.append(inputs[i-40:i,0])\n",
    "X_test = np.array(X_test)"
   ]
  },
  {
   "cell_type": "code",
   "execution_count": 44,
   "metadata": {},
   "outputs": [],
   "source": [
    "X_test = np.reshape(X_test, (X_test.shape[0],X_test.shape[1],1))\n",
    "closing_price = model.predict(X_test)\n",
    "closing_price = scaler.inverse_transform(closing_price)"
   ]
  },
  {
   "cell_type": "code",
   "execution_count": 45,
   "metadata": {},
   "outputs": [
    {
     "data": {
      "text/plain": [
       "21.647960299162623"
      ]
     },
     "execution_count": 45,
     "metadata": {},
     "output_type": "execute_result"
    }
   ],
   "source": [
    "rms=np.sqrt(np.mean(np.power((valid-closing_price),2)))\n",
    "rms"
   ]
  },
  {
   "cell_type": "code",
   "execution_count": 46,
   "metadata": {},
   "outputs": [
    {
     "name": "stderr",
     "output_type": "stream",
     "text": [
      "/home/shubham/.conda/envs/my_env/lib/python3.7/site-packages/ipykernel_launcher.py:5: SettingWithCopyWarning: \n",
      "A value is trying to be set on a copy of a slice from a DataFrame.\n",
      "Try using .loc[row_indexer,col_indexer] = value instead\n",
      "\n",
      "See the caveats in the documentation: http://pandas.pydata.org/pandas-docs/stable/indexing.html#indexing-view-versus-copy\n",
      "  \"\"\"\n"
     ]
    },
    {
     "data": {
      "image/png": "[encoded data removed]",
      "text/plain": [
       "<Figure size 1008x576 with 1 Axes>"
      ]
     },
     "metadata": {
      "needs_background": "light"
     },
     "output_type": "display_data"
    }
   ],
   "source": [
    "#for plotting\n",
    "plt.figure(figsize=(14,8))\n",
    "train = new_data[:1257]\n",
    "valid = new_data[1257:]\n",
    "valid['Predictions'] = closing_price\n",
    "plt.plot(train['High'])\n",
    "plt.plot(valid[['High','Predictions']])\n",
    "plt.show()"
   ]
  },
  {
   "cell_type": "code",
   "execution_count": 47,
   "metadata": {},
   "outputs": [
    {
     "data": {
      "text/plain": [
       "(19, 1)"
      ]
     },
     "execution_count": 47,
     "metadata": {},
     "output_type": "execute_result"
    }
   ],
   "source": [
    "closing_price.shape"
   ]
  },
  {
   "cell_type": "code",
   "execution_count": 48,
   "metadata": {},
   "outputs": [],
   "source": [
    "df=pd.DataFrame(closing_price)"
   ]
  },
  {
   "cell_type": "code",
   "execution_count": 49,
   "metadata": {},
   "outputs": [],
   "source": [
    "df.columns= ['High']"
   ]
  },
  {
   "cell_type": "code",
   "execution_count": 50,
   "metadata": {},
   "outputs": [],
   "source": [
    "df.to_csv(\"pred_new_40.csv\", index=False)"
   ]
  },
  {
   "cell_type": "code",
   "execution_count": null,
   "metadata": {},
   "outputs": [],
   "source": []
  }
 ],
 "metadata": {
  "kernelspec": {
   "display_name": "Python 3",
   "language": "python",
   "name": "python3"
  },
  "language_info": {
   "codemirror_mode": {
    "name": "ipython",
    "version": 3
   },
   "file_extension": ".py",
   "mimetype": "text/x-python",
   "name": "python",
   "nbconvert_exporter": "python",
   "pygments_lexer": "ipython3",
   "version": "3.7.3"
  }
 },
 "nbformat": 4,
 "nbformat_minor": 2
}
