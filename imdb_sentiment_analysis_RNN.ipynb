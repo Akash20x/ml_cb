{
  "nbformat": 4,
  "nbformat_minor": 0,
  "metadata": {
    "colab": {
      "name": "imdb_sentiment_analysis-RNN.ipynb",
      "version": "0.3.2",
      "provenance": [],
      "collapsed_sections": [],
      "include_colab_link": true
    },
    "kernelspec": {
      "name": "python3",
      "display_name": "Python 3"
    },
    "accelerator": "GPU"
  },
  "cells": [
    {
      "cell_type": "markdown",
      "metadata": {
        "id": "view-in-github",
        "colab_type": "text"
      },
      "source": [
        "<a href=\"https://colab.research.google.com/github/shubhammittal009/ml_cb/blob/master/imdb_sentiment_analysis_RNN.ipynb\" target=\"_parent\"><img src=\"https://colab.research.google.com/assets/colab-badge.svg\" alt=\"Open In Colab\"/></a>"
      ]
    },
    {
      "cell_type": "code",
      "metadata": {
        "id": "oIEUnhtqtUXg",
        "colab_type": "code",
        "colab": {
          "base_uri": "https://localhost:8080/",
          "height": 34
        },
        "outputId": "b9ca5787-71fe-4ec9-f658-e5815ab5d409"
      },
      "source": [
        "from keras.datasets import imdb"
      ],
      "execution_count": 1,
      "outputs": [
        {
          "output_type": "stream",
          "text": [
            "Using TensorFlow backend.\n"
          ],
          "name": "stderr"
        }
      ]
    },
    {
      "cell_type": "code",
      "metadata": {
        "id": "pH3jM46Itjs-",
        "colab_type": "code",
        "colab": {}
      },
      "source": [
        "import numpy as np\n",
        "# save np.load\n",
        "np_load_old = np.load\n",
        "\n",
        "# modify the default parameters of np.load\n",
        "np.load = lambda *a,**k: np_load_old(*a, allow_pickle=True, **k)\n",
        "\n",
        "# call load_data with allow_pickle implicitly set to true\n",
        "(train_data, train_labels), (test_data, test_labels) = imdb.load_data(num_words=10000)\n",
        "\n",
        "# restore np.load for future normal usage\n",
        "np.load = np_load_old\n",
        "\n",
        "((XT, YT), (Xt, Yt)) = ((train_data, train_labels), (test_data, test_labels))"
      ],
      "execution_count": 0,
      "outputs": []
    },
    {
      "cell_type": "code",
      "metadata": {
        "id": "p78atAzxuS-z",
        "colab_type": "code",
        "colab": {
          "base_uri": "https://localhost:8080/",
          "height": 50
        },
        "outputId": "3aba9025-a7eb-4b1e-f326-2d6855668d9b"
      },
      "source": [
        "word_idx = imdb.get_word_index()"
      ],
      "execution_count": 5,
      "outputs": [
        {
          "output_type": "stream",
          "text": [
            "Downloading data from https://s3.amazonaws.com/text-datasets/imdb_word_index.json\n",
            "1646592/1641221 [==============================] - 0s 0us/step\n"
          ],
          "name": "stdout"
        }
      ]
    },
    {
      "cell_type": "code",
      "metadata": {
        "id": "nCBQwaGbvB8e",
        "colab_type": "code",
        "colab": {
          "base_uri": "https://localhost:8080/",
          "height": 34
        },
        "outputId": "12e48d83-dce6-45c6-c573-4b2cc2f25cd2"
      },
      "source": [
        "print(len(Xt))\n",
        "# XT[0]"
      ],
      "execution_count": 11,
      "outputs": [
        {
          "output_type": "stream",
          "text": [
            "25000\n"
          ],
          "name": "stdout"
        }
      ]
    },
    {
      "cell_type": "code",
      "metadata": {
        "id": "o42VWgi4vUo-",
        "colab_type": "code",
        "colab": {}
      },
      "source": [
        "# print(word_idx.items())"
      ],
      "execution_count": 0,
      "outputs": []
    },
    {
      "cell_type": "code",
      "metadata": {
        "id": "XFIg054JvqDG",
        "colab_type": "code",
        "colab": {
          "base_uri": "https://localhost:8080/",
          "height": 54
        },
        "outputId": "85ffcf78-b158-49b3-b6c8-0e7d6400a501"
      },
      "source": [
        "idx_word = dict([v,k] for (k,v) in word_idx.items())\n",
        "print(list(idx_word.items())[:60])"
      ],
      "execution_count": 14,
      "outputs": [
        {
          "output_type": "stream",
          "text": [
            "[(34701, 'fawn'), (52006, 'tsukino'), (52007, 'nunnery'), (16816, 'sonja'), (63951, 'vani'), (1408, 'woods'), (16115, 'spiders'), (2345, 'hanging'), (2289, 'woody'), (52008, 'trawling'), (52009, \"hold's\"), (11307, 'comically'), (40830, 'localized'), (30568, 'disobeying'), (52010, \"'royale\"), (40831, \"harpo's\"), (52011, 'canet'), (19313, 'aileen'), (52012, 'acurately'), (52013, \"diplomat's\"), (25242, 'rickman'), (6746, 'arranged'), (52014, 'rumbustious'), (52015, 'familiarness'), (52016, \"spider'\"), (68804, 'hahahah'), (52017, \"wood'\"), (40833, 'transvestism'), (34702, \"hangin'\"), (2338, 'bringing'), (40834, 'seamier'), (34703, 'wooded'), (52018, 'bravora'), (16817, 'grueling'), (1636, 'wooden'), (16818, 'wednesday'), (52019, \"'prix\"), (34704, 'altagracia'), (52020, 'circuitry'), (11585, 'crotch'), (57766, 'busybody'), (52021, \"tart'n'tangy\"), (14129, 'burgade'), (52023, 'thrace'), (11038, \"tom's\"), (52025, 'snuggles'), (29114, 'francesco'), (52027, 'complainers'), (52125, 'templarios'), (40835, '272'), (52028, '273'), (52130, 'zaniacs'), (34706, '275'), (27631, 'consenting'), (40836, 'snuggled'), (15492, 'inanimate'), (52030, 'uality'), (11926, 'bronte'), (4010, 'errors'), (3230, 'dialogs')]\n"
          ],
          "name": "stdout"
        }
      ]
    },
    {
      "cell_type": "code",
      "metadata": {
        "id": "duFds-RQwNMW",
        "colab_type": "code",
        "colab": {
          "base_uri": "https://localhost:8080/",
          "height": 54
        },
        "outputId": "14cfd034-dd78-4a0c-d1ca-a16d9a8a8878"
      },
      "source": [
        "acutal_review = ' '.join([idx_word.get(idx-3,'?') for idx in XT[0]])\n",
        "print(acutal_review)"
      ],
      "execution_count": 15,
      "outputs": [
        {
          "output_type": "stream",
          "text": [
            "? this film was just brilliant casting location scenery story direction everyone's really suited the part they played and you could just imagine being there robert ? is an amazing actor and now the same being director ? father came from the same scottish island as myself so i loved the fact there was a real connection with this film the witty remarks throughout the film were great it was just brilliant so much that i bought the film as soon as it was released for ? and would recommend it to everyone to watch and the fly fishing was amazing really cried at the end it was so sad and you know what they say if you cry at a film it must have been good and this definitely was also ? to the two little boy's that played the ? of norman and paul they were just brilliant children are often left out of the ? list i think because the stars that play them all grown up are such a big profile for the whole film but these children are amazing and should be praised for what they have done don't you think the whole story was so lovely because it was true and was someone's life after all that was shared with us all\n"
          ],
          "name": "stdout"
        }
      ]
    },
    {
      "cell_type": "code",
      "metadata": {
        "id": "gaCGkI7FxUaa",
        "colab_type": "code",
        "colab": {}
      },
      "source": [
        "from keras.preprocessing.sequence import pad_sequences\n",
        "XTrain = pad_sequences(XT,maxlen=200)"
      ],
      "execution_count": 0,
      "outputs": []
    },
    {
      "cell_type": "code",
      "metadata": {
        "id": "y3H8odvxxgU_",
        "colab_type": "code",
        "colab": {}
      },
      "source": [
        ""
      ],
      "execution_count": 0,
      "outputs": []
    }
  ]
}