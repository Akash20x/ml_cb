{
 "cells": [
  {
   "cell_type": "code",
   "execution_count": 1,
   "metadata": {},
   "outputs": [
    {
     "name": "stderr",
     "output_type": "stream",
     "text": [
      "Using TensorFlow backend.\n"
     ]
    }
   ],
   "source": [
    "from keras.models import Sequential\n",
    "from keras.layers import Dense\n",
    "import numpy as np\n",
    "from keras import backend as K\n",
    "import pandas as pd\n",
    "import csv\n",
    "import matplotlib.pyplot as plt\n",
    "import seaborn as sns\n",
    "import warnings\n",
    "warnings.filterwarnings('ignore')"
   ]
  },
  {
   "cell_type": "code",
   "execution_count": 2,
   "metadata": {},
   "outputs": [],
   "source": [
    "train = pd.read_csv(\"Train/Train_Data.csv\")\n",
    "test = pd.read_csv(\"Test/Test_Data.csv\")"
   ]
  },
  {
   "cell_type": "code",
   "execution_count": 3,
   "metadata": {},
   "outputs": [
    {
     "name": "stdout",
     "output_type": "stream",
     "text": [
      "(1100, 81)\n",
      "(360, 80)\n"
     ]
    }
   ],
   "source": [
    "print(train.shape)\n",
    "print(test.shape)"
   ]
  },
  {
   "cell_type": "code",
   "execution_count": 4,
   "metadata": {},
   "outputs": [
    {
     "name": "stdout",
     "output_type": "stream",
     "text": [
      "<class 'pandas.core.frame.DataFrame'>\n",
      "RangeIndex: 1100 entries, 0 to 1099\n",
      "Data columns (total 81 columns):\n",
      "Id               1100 non-null int64\n",
      "MSSubClass       1100 non-null int64\n",
      "MSZoning         1100 non-null object\n",
      "LotFrontage      908 non-null float64\n",
      "LotArea          1100 non-null int64\n",
      "Street           1100 non-null object\n",
      "Alley            69 non-null object\n",
      "LotShape         1100 non-null object\n",
      "LandContour      1100 non-null object\n",
      "Utilities        1100 non-null object\n",
      "LotConfig        1100 non-null object\n",
      "LandSlope        1100 non-null object\n",
      "Neighborhood     1100 non-null object\n",
      "Condition1       1100 non-null object\n",
      "Condition2       1100 non-null object\n",
      "BldgType         1100 non-null object\n",
      "HouseStyle       1100 non-null object\n",
      "OverallQual      1100 non-null int64\n",
      "OverallCond      1100 non-null int64\n",
      "YearBuilt        1100 non-null int64\n",
      "YearRemodAdd     1100 non-null int64\n",
      "RoofStyle        1100 non-null object\n",
      "RoofMatl         1100 non-null object\n",
      "Exterior1st      1100 non-null object\n",
      "Exterior2nd      1100 non-null object\n",
      "MasVnrType       1094 non-null object\n",
      "MasVnrArea       1094 non-null float64\n",
      "ExterQual        1100 non-null object\n",
      "ExterCond        1100 non-null object\n",
      "Foundation       1100 non-null object\n",
      "BsmtQual         1069 non-null object\n",
      "BsmtCond         1069 non-null object\n",
      "BsmtExposure     1068 non-null object\n",
      "BsmtFinType1     1069 non-null object\n",
      "BsmtFinSF1       1100 non-null int64\n",
      "BsmtFinType2     1068 non-null object\n",
      "BsmtFinSF2       1100 non-null int64\n",
      "BsmtUnfSF        1100 non-null int64\n",
      "TotalBsmtSF      1100 non-null int64\n",
      "Heating          1100 non-null object\n",
      "HeatingQC        1100 non-null object\n",
      "CentralAir       1100 non-null object\n",
      "Electrical       1100 non-null object\n",
      "1stFlrSF         1100 non-null int64\n",
      "2ndFlrSF         1100 non-null int64\n",
      "LowQualFinSF     1100 non-null int64\n",
      "GrLivArea        1100 non-null int64\n",
      "BsmtFullBath     1100 non-null int64\n",
      "BsmtHalfBath     1100 non-null int64\n",
      "FullBath         1100 non-null int64\n",
      "HalfBath         1100 non-null int64\n",
      "BedroomAbvGr     1100 non-null int64\n",
      "KitchenAbvGr     1100 non-null int64\n",
      "KitchenQual      1100 non-null object\n",
      "TotRmsAbvGrd     1100 non-null int64\n",
      "Functional       1100 non-null object\n",
      "Fireplaces       1100 non-null int64\n",
      "FireplaceQu      576 non-null object\n",
      "GarageType       1039 non-null object\n",
      "GarageYrBlt      1039 non-null float64\n",
      "GarageFinish     1039 non-null object\n",
      "GarageCars       1100 non-null int64\n",
      "GarageArea       1100 non-null int64\n",
      "GarageQual       1039 non-null object\n",
      "GarageCond       1039 non-null object\n",
      "PavedDrive       1100 non-null object\n",
      "WoodDeckSF       1100 non-null int64\n",
      "OpenPorchSF      1100 non-null int64\n",
      "EnclosedPorch    1100 non-null int64\n",
      "3SsnPorch        1100 non-null int64\n",
      "ScreenPorch      1100 non-null int64\n",
      "PoolArea         1100 non-null int64\n",
      "PoolQC           2 non-null object\n",
      "Fence            208 non-null object\n",
      "MiscFeature      46 non-null object\n",
      "MiscVal          1100 non-null int64\n",
      "MoSold           1100 non-null int64\n",
      "YrSold           1100 non-null int64\n",
      "SaleType         1100 non-null object\n",
      "SaleCondition    1100 non-null object\n",
      "SalePrice        1100 non-null int64\n",
      "dtypes: float64(3), int64(35), object(43)\n",
      "memory usage: 696.2+ KB\n"
     ]
    }
   ],
   "source": [
    "train.info()"
   ]
  },
  {
   "cell_type": "code",
   "execution_count": null,
   "metadata": {},
   "outputs": [],
   "source": [
    "train.head(n=100)"
   ]
  },
  {
   "cell_type": "code",
   "execution_count": null,
   "metadata": {},
   "outputs": [],
   "source": [
    "train.info()"
   ]
  },
  {
   "cell_type": "code",
   "execution_count": null,
   "metadata": {},
   "outputs": [],
   "source": [
    "output_cols = [\"SalePrice\"]\n",
    "\n",
    "XT = train.drop(output_cols,axis=1)\n",
    "YT = train[output_cols]\n",
    "\n",
    "print(XT.shape,YT.shape)"
   ]
  },
  {
   "cell_type": "code",
   "execution_count": null,
   "metadata": {},
   "outputs": [],
   "source": [
    "Xt = test\n",
    "\n",
    "print(Xt.shape)"
   ]
  },
  {
   "cell_type": "code",
   "execution_count": null,
   "metadata": {},
   "outputs": [],
   "source": []
  },
  {
   "cell_type": "code",
   "execution_count": null,
   "metadata": {},
   "outputs": [],
   "source": []
  },
  {
   "cell_type": "code",
   "execution_count": null,
   "metadata": {},
   "outputs": [],
   "source": []
  },
  {
   "cell_type": "code",
   "execution_count": null,
   "metadata": {},
   "outputs": [],
   "source": [
    "from sklearn.base import TransformerMixin"
   ]
  },
  {
   "cell_type": "code",
   "execution_count": null,
   "metadata": {},
   "outputs": [],
   "source": [
    "class DataFrameImputer(TransformerMixin):\n",
    "\n",
    "    def __init__(self):\n",
    "        \"\"\"Impute missing values.\n",
    "\n",
    "        Columns of dtype object are imputed with the most frequent value \n",
    "        in column.\n",
    "\n",
    "        Columns of other types are imputed with mean of column.\n",
    "\n",
    "        \"\"\"\n",
    "    def fit(self, X, y=None):\n",
    "\n",
    "        self.fill = pd.Series([X[c].value_counts().index[0]\n",
    "            if X[c].dtype == np.dtype('O') else X[c].mean() for c in X],\n",
    "            index=X.columns)\n",
    "\n",
    "        return self\n",
    "\n",
    "    def transform(self, X, y=None):\n",
    "        return X.fillna(self.fill)"
   ]
  },
  {
   "cell_type": "code",
   "execution_count": null,
   "metadata": {},
   "outputs": [],
   "source": [
    "XT = DataFrameImputer().fit_transform(XT)"
   ]
  },
  {
   "cell_type": "code",
   "execution_count": null,
   "metadata": {},
   "outputs": [],
   "source": [
    "print(type(XT))"
   ]
  },
  {
   "cell_type": "code",
   "execution_count": null,
   "metadata": {},
   "outputs": [],
   "source": [
    "XT.head()"
   ]
  },
  {
   "cell_type": "code",
   "execution_count": null,
   "metadata": {},
   "outputs": [],
   "source": [
    "XT.info()"
   ]
  },
  {
   "cell_type": "code",
   "execution_count": null,
   "metadata": {},
   "outputs": [],
   "source": []
  },
  {
   "cell_type": "code",
   "execution_count": null,
   "metadata": {},
   "outputs": [],
   "source": []
  },
  {
   "cell_type": "code",
   "execution_count": null,
   "metadata": {},
   "outputs": [],
   "source": []
  },
  {
   "cell_type": "code",
   "execution_count": null,
   "metadata": {},
   "outputs": [],
   "source": []
  },
  {
   "cell_type": "code",
   "execution_count": null,
   "metadata": {},
   "outputs": [],
   "source": []
  },
  {
   "cell_type": "code",
   "execution_count": null,
   "metadata": {},
   "outputs": [],
   "source": []
  },
  {
   "cell_type": "code",
   "execution_count": null,
   "metadata": {},
   "outputs": [],
   "source": []
  },
  {
   "cell_type": "code",
   "execution_count": null,
   "metadata": {},
   "outputs": [],
   "source": []
  },
  {
   "cell_type": "code",
   "execution_count": null,
   "metadata": {},
   "outputs": [],
   "source": []
  },
  {
   "cell_type": "code",
   "execution_count": null,
   "metadata": {},
   "outputs": [],
   "source": []
  },
  {
   "cell_type": "code",
   "execution_count": null,
   "metadata": {},
   "outputs": [],
   "source": []
  },
  {
   "cell_type": "code",
   "execution_count": null,
   "metadata": {},
   "outputs": [],
   "source": []
  },
  {
   "cell_type": "code",
   "execution_count": null,
   "metadata": {},
   "outputs": [],
   "source": []
  },
  {
   "cell_type": "code",
   "execution_count": null,
   "metadata": {},
   "outputs": [],
   "source": []
  },
  {
   "cell_type": "code",
   "execution_count": null,
   "metadata": {},
   "outputs": [],
   "source": [
    "from sklearn.preprocessing import OneHotEncoder\n",
    "\n",
    "one_hot = OneHotEncoder()\n",
    "\n",
    "one_hot.fit_transform(XT)"
   ]
  },
  {
   "cell_type": "code",
   "execution_count": null,
   "metadata": {},
   "outputs": [],
   "source": []
  },
  {
   "cell_type": "code",
   "execution_count": null,
   "metadata": {},
   "outputs": [],
   "source": [
    "print(type(XT))"
   ]
  },
  {
   "cell_type": "code",
   "execution_count": null,
   "metadata": {},
   "outputs": [],
   "source": [
    "XT.head()"
   ]
  },
  {
   "cell_type": "code",
   "execution_count": null,
   "metadata": {},
   "outputs": [],
   "source": [
    "XT = np.ravel(XT)"
   ]
  },
  {
   "cell_type": "code",
   "execution_count": null,
   "metadata": {},
   "outputs": [],
   "source": [
    "print(XT)"
   ]
  },
  {
   "cell_type": "code",
   "execution_count": null,
   "metadata": {},
   "outputs": [],
   "source": []
  },
  {
   "cell_type": "code",
   "execution_count": null,
   "metadata": {},
   "outputs": [],
   "source": []
  },
  {
   "cell_type": "code",
   "execution_count": null,
   "metadata": {},
   "outputs": [],
   "source": []
  },
  {
   "cell_type": "code",
   "execution_count": null,
   "metadata": {},
   "outputs": [],
   "source": []
  },
  {
   "cell_type": "code",
   "execution_count": null,
   "metadata": {},
   "outputs": [],
   "source": [
    "from sklearn.preprocessing import LabelEncoder\n",
    "\n",
    "le = LabelEncoder()\n",
    "\n",
    "le.fit_transform(XT)"
   ]
  },
  {
   "cell_type": "code",
   "execution_count": null,
   "metadata": {},
   "outputs": [],
   "source": []
  },
  {
   "cell_type": "code",
   "execution_count": null,
   "metadata": {},
   "outputs": [],
   "source": [
    "from sklearn.preprocessing import LabelEncoder\n",
    "\n",
    "le = LabelEncoder()\n",
    "# XT[\"Street\"] = le.fit_transform(XT[\"Street\"])\n",
    "# Xt[\"Street\"] = le.fit_transform(Xt[\"Street\"])\n",
    "\n",
    "\n",
    "XT[:, :] = le.fit_transform(XT[:, :])"
   ]
  },
  {
   "cell_type": "code",
   "execution_count": null,
   "metadata": {},
   "outputs": [],
   "source": [
    "print(XT)"
   ]
  },
  {
   "cell_type": "code",
   "execution_count": null,
   "metadata": {},
   "outputs": [],
   "source": [
    "XT = np.array(XT)\n",
    "YT = np.array(YT)\n",
    "\n",
    "Xt = np.array(Xt)"
   ]
  },
  {
   "cell_type": "code",
   "execution_count": null,
   "metadata": {},
   "outputs": [],
   "source": [
    "mean = XT.mean(axis=0)\n",
    "std = XT.std(axis=0)\n",
    "\n",
    "# Data Normalisation Step\n",
    "XT = (XT-mean)/std\n",
    "Xt = (Xt-mean)/std"
   ]
  },
  {
   "cell_type": "code",
   "execution_count": null,
   "metadata": {},
   "outputs": [],
   "source": [
    "# Build Our Neural Network Model\n",
    "def r2_score(y_true,y_pred):\n",
    "    num = K.sum(K.square(y_true-y_pred))\n",
    "    denom = K.sum(K.square(y_true- K.mean(y_true)))\n",
    "    return (1-num/denom)\n",
    "\n",
    "def getModel():\n",
    "    model = Sequential()\n",
    "    model.add(Dense(64,activation='relu',input_shape=(80,)))\n",
    "    model.add(Dense(32,activation='relu'))\n",
    "    model.add(Dense(1))\n",
    "    \n",
    "    model.compile(optimizer='adam',loss='mse',metrics=[r2_score])\n",
    "    return model"
   ]
  },
  {
   "cell_type": "code",
   "execution_count": null,
   "metadata": {},
   "outputs": [],
   "source": [
    "model = getModel()\n",
    "model.summary()"
   ]
  },
  {
   "cell_type": "code",
   "execution_count": null,
   "metadata": {},
   "outputs": [],
   "source": [
    "hist = model.fit(XT,YT,verbose=1,epochs=100)"
   ]
  },
  {
   "cell_type": "code",
   "execution_count": null,
   "metadata": {},
   "outputs": [],
   "source": [
    "# val_loss = hist.history['val_loss']\n",
    "train_loss = hist.history['loss']"
   ]
  },
  {
   "cell_type": "code",
   "execution_count": null,
   "metadata": {},
   "outputs": [],
   "source": [
    "import matplotlib.pyplot as plt\n",
    "\n",
    "# plt.plot(val_loss,label=\"Val Loss \")\n",
    "plt.plot(train_loss,label=\"Train Loss\")\n",
    "plt.legend()\n",
    "plt.show()"
   ]
  },
  {
   "cell_type": "code",
   "execution_count": null,
   "metadata": {},
   "outputs": [],
   "source": []
  }
 ],
 "metadata": {
  "kernelspec": {
   "display_name": "Python 3",
   "language": "python",
   "name": "python3"
  },
  "language_info": {
   "codemirror_mode": {
    "name": "ipython",
    "version": 3
   },
   "file_extension": ".py",
   "mimetype": "text/x-python",
   "name": "python",
   "nbconvert_exporter": "python",
   "pygments_lexer": "ipython3",
   "version": "3.7.3"
  }
 },
 "nbformat": 4,
 "nbformat_minor": 2
}
